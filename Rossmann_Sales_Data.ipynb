{
  "nbformat": 4,
  "nbformat_minor": 0,
  "metadata": {
    "colab": {
      "name": "Rossmann Sales Data.ipynb",
      "provenance": [],
      "collapsed_sections": [],
      "authorship_tag": "ABX9TyOZV2LKaYzqxQMqB8Iq4wuH",
      "include_colab_link": true
    },
    "kernelspec": {
      "name": "python3",
      "display_name": "Python 3"
    }
  },
  "cells": [
    {
      "cell_type": "markdown",
      "metadata": {
        "id": "view-in-github",
        "colab_type": "text"
      },
      "source": [
        "<a href=\"https://colab.research.google.com/github/ritikkumarjain/Rossmann-Store-Sales/blob/main/Rossmann_Sales_Data.ipynb\" target=\"_parent\"><img src=\"https://colab.research.google.com/assets/colab-badge.svg\" alt=\"Open In Colab\"/></a>"
      ]
    },
    {
      "cell_type": "markdown",
      "metadata": {
        "id": "02ncFtPRDYjZ"
      },
      "source": [
        "**Problem Statement**\n",
        "Rossmann is one of the largest drugstore chains in Germany, with\n",
        "operations across Europe. As of 2018, they have well over 3,900 stores in\n",
        "Europe with an annual turnover of 9 billion euros. Our task is to predict the\n",
        "sales for a few identified stores on a given day."
      ]
    },
    {
      "cell_type": "code",
      "metadata": {
        "id": "lKKd69IU2tQx"
      },
      "source": [
        "import pandas as pd \n",
        "import numpy as np\n",
        "import matplotlib.pyplot as plt\n",
        "import seaborn as sns \n",
        "from sklearn.model_selection import train_test_split\n",
        "\n",
        "from keras.callbacks import History\n",
        "history = History()\n",
        "\n",
        "from keras import layers\n",
        "from keras.models import Sequential\n",
        "from keras.layers import Dense, Dropout"
      ],
      "execution_count": 1,
      "outputs": []
    },
    {
      "cell_type": "code",
      "metadata": {
        "id": "L0_uLh2dKaue",
        "outputId": "42180bcd-b2e8-40fc-fbc2-b076a3bb7703",
        "colab": {
          "base_uri": "https://localhost:8080/"
        }
      },
      "source": [
        "from google.colab import drive\n",
        "drive.mount('/content/gdrive')"
      ],
      "execution_count": 2,
      "outputs": [
        {
          "output_type": "stream",
          "text": [
            "Drive already mounted at /content/gdrive; to attempt to forcibly remount, call drive.mount(\"/content/gdrive\", force_remount=True).\n"
          ],
          "name": "stdout"
        }
      ]
    },
    {
      "cell_type": "code",
      "metadata": {
        "id": "XXgE8CrY3LEQ",
        "outputId": "982cb40b-c8ba-4551-ec0a-eed7df0ffda0",
        "colab": {
          "base_uri": "https://localhost:8080/"
        }
      },
      "source": [
        "#train = pd.read_csv(\"/content/gdrive/My Drive/Dataset/train.csv\")\n",
        "train = pd.read_csv('/content/gdrive/My Drive/Dataset/Rossmann Store Sales/train.csv')\n",
        "test = pd.read_csv('/content/gdrive/My Drive/Dataset/Rossmann Store Sales/test.csv')\n",
        "store = pd.read_csv('/content/gdrive/My Drive/Dataset/Rossmann Store Sales/store.csv')"
      ],
      "execution_count": 3,
      "outputs": [
        {
          "output_type": "stream",
          "text": [
            "/usr/local/lib/python3.6/dist-packages/IPython/core/interactiveshell.py:2718: DtypeWarning: Columns (7) have mixed types.Specify dtype option on import or set low_memory=False.\n",
            "  interactivity=interactivity, compiler=compiler, result=result)\n"
          ],
          "name": "stderr"
        }
      ]
    },
    {
      "cell_type": "markdown",
      "metadata": {
        "id": "12j_EnAQERuC"
      },
      "source": [
        "# Data Exploration"
      ]
    },
    {
      "cell_type": "code",
      "metadata": {
        "id": "Dxl2pGlu5BVQ",
        "outputId": "c78476c0-c0f9-47b5-b785-b6791c35d894",
        "colab": {
          "base_uri": "https://localhost:8080/"
        }
      },
      "source": [
        "train.shape"
      ],
      "execution_count": 4,
      "outputs": [
        {
          "output_type": "execute_result",
          "data": {
            "text/plain": [
              "(1017209, 9)"
            ]
          },
          "metadata": {
            "tags": []
          },
          "execution_count": 4
        }
      ]
    },
    {
      "cell_type": "code",
      "metadata": {
        "id": "smCd5q2j7WZ9",
        "outputId": "57640178-e26c-4a32-e9aa-9fc6bcbedb60",
        "colab": {
          "base_uri": "https://localhost:8080/",
          "height": 206
        }
      },
      "source": [
        "train.head()"
      ],
      "execution_count": 5,
      "outputs": [
        {
          "output_type": "execute_result",
          "data": {
            "text/html": [
              "<div>\n",
              "<style scoped>\n",
              "    .dataframe tbody tr th:only-of-type {\n",
              "        vertical-align: middle;\n",
              "    }\n",
              "\n",
              "    .dataframe tbody tr th {\n",
              "        vertical-align: top;\n",
              "    }\n",
              "\n",
              "    .dataframe thead th {\n",
              "        text-align: right;\n",
              "    }\n",
              "</style>\n",
              "<table border=\"1\" class=\"dataframe\">\n",
              "  <thead>\n",
              "    <tr style=\"text-align: right;\">\n",
              "      <th></th>\n",
              "      <th>Store</th>\n",
              "      <th>DayOfWeek</th>\n",
              "      <th>Date</th>\n",
              "      <th>Sales</th>\n",
              "      <th>Customers</th>\n",
              "      <th>Open</th>\n",
              "      <th>Promo</th>\n",
              "      <th>StateHoliday</th>\n",
              "      <th>SchoolHoliday</th>\n",
              "    </tr>\n",
              "  </thead>\n",
              "  <tbody>\n",
              "    <tr>\n",
              "      <th>0</th>\n",
              "      <td>1</td>\n",
              "      <td>5</td>\n",
              "      <td>2015-07-31</td>\n",
              "      <td>5263</td>\n",
              "      <td>555</td>\n",
              "      <td>1</td>\n",
              "      <td>1</td>\n",
              "      <td>0</td>\n",
              "      <td>1</td>\n",
              "    </tr>\n",
              "    <tr>\n",
              "      <th>1</th>\n",
              "      <td>2</td>\n",
              "      <td>5</td>\n",
              "      <td>2015-07-31</td>\n",
              "      <td>6064</td>\n",
              "      <td>625</td>\n",
              "      <td>1</td>\n",
              "      <td>1</td>\n",
              "      <td>0</td>\n",
              "      <td>1</td>\n",
              "    </tr>\n",
              "    <tr>\n",
              "      <th>2</th>\n",
              "      <td>3</td>\n",
              "      <td>5</td>\n",
              "      <td>2015-07-31</td>\n",
              "      <td>8314</td>\n",
              "      <td>821</td>\n",
              "      <td>1</td>\n",
              "      <td>1</td>\n",
              "      <td>0</td>\n",
              "      <td>1</td>\n",
              "    </tr>\n",
              "    <tr>\n",
              "      <th>3</th>\n",
              "      <td>4</td>\n",
              "      <td>5</td>\n",
              "      <td>2015-07-31</td>\n",
              "      <td>13995</td>\n",
              "      <td>1498</td>\n",
              "      <td>1</td>\n",
              "      <td>1</td>\n",
              "      <td>0</td>\n",
              "      <td>1</td>\n",
              "    </tr>\n",
              "    <tr>\n",
              "      <th>4</th>\n",
              "      <td>5</td>\n",
              "      <td>5</td>\n",
              "      <td>2015-07-31</td>\n",
              "      <td>4822</td>\n",
              "      <td>559</td>\n",
              "      <td>1</td>\n",
              "      <td>1</td>\n",
              "      <td>0</td>\n",
              "      <td>1</td>\n",
              "    </tr>\n",
              "  </tbody>\n",
              "</table>\n",
              "</div>"
            ],
            "text/plain": [
              "   Store  DayOfWeek        Date  Sales  ...  Open  Promo  StateHoliday SchoolHoliday\n",
              "0      1          5  2015-07-31   5263  ...     1      1             0             1\n",
              "1      2          5  2015-07-31   6064  ...     1      1             0             1\n",
              "2      3          5  2015-07-31   8314  ...     1      1             0             1\n",
              "3      4          5  2015-07-31  13995  ...     1      1             0             1\n",
              "4      5          5  2015-07-31   4822  ...     1      1             0             1\n",
              "\n",
              "[5 rows x 9 columns]"
            ]
          },
          "metadata": {
            "tags": []
          },
          "execution_count": 5
        }
      ]
    },
    {
      "cell_type": "code",
      "metadata": {
        "id": "w_DczsSn7aIB",
        "outputId": "d2530717-2b1b-4436-a560-03060dad0310",
        "colab": {
          "base_uri": "https://localhost:8080/"
        }
      },
      "source": [
        "store.shape"
      ],
      "execution_count": 6,
      "outputs": [
        {
          "output_type": "execute_result",
          "data": {
            "text/plain": [
              "(1115, 10)"
            ]
          },
          "metadata": {
            "tags": []
          },
          "execution_count": 6
        }
      ]
    },
    {
      "cell_type": "code",
      "metadata": {
        "id": "uP_6M9ji7j6p",
        "outputId": "0baf5756-6eb4-4a8f-af3b-946fb50e467f",
        "colab": {
          "base_uri": "https://localhost:8080/",
          "height": 226
        }
      },
      "source": [
        "store.head()"
      ],
      "execution_count": 7,
      "outputs": [
        {
          "output_type": "execute_result",
          "data": {
            "text/html": [
              "<div>\n",
              "<style scoped>\n",
              "    .dataframe tbody tr th:only-of-type {\n",
              "        vertical-align: middle;\n",
              "    }\n",
              "\n",
              "    .dataframe tbody tr th {\n",
              "        vertical-align: top;\n",
              "    }\n",
              "\n",
              "    .dataframe thead th {\n",
              "        text-align: right;\n",
              "    }\n",
              "</style>\n",
              "<table border=\"1\" class=\"dataframe\">\n",
              "  <thead>\n",
              "    <tr style=\"text-align: right;\">\n",
              "      <th></th>\n",
              "      <th>Store</th>\n",
              "      <th>StoreType</th>\n",
              "      <th>Assortment</th>\n",
              "      <th>CompetitionDistance</th>\n",
              "      <th>CompetitionOpenSinceMonth</th>\n",
              "      <th>CompetitionOpenSinceYear</th>\n",
              "      <th>Promo2</th>\n",
              "      <th>Promo2SinceWeek</th>\n",
              "      <th>Promo2SinceYear</th>\n",
              "      <th>PromoInterval</th>\n",
              "    </tr>\n",
              "  </thead>\n",
              "  <tbody>\n",
              "    <tr>\n",
              "      <th>0</th>\n",
              "      <td>1</td>\n",
              "      <td>c</td>\n",
              "      <td>a</td>\n",
              "      <td>1270.0</td>\n",
              "      <td>9.0</td>\n",
              "      <td>2008.0</td>\n",
              "      <td>0</td>\n",
              "      <td>NaN</td>\n",
              "      <td>NaN</td>\n",
              "      <td>NaN</td>\n",
              "    </tr>\n",
              "    <tr>\n",
              "      <th>1</th>\n",
              "      <td>2</td>\n",
              "      <td>a</td>\n",
              "      <td>a</td>\n",
              "      <td>570.0</td>\n",
              "      <td>11.0</td>\n",
              "      <td>2007.0</td>\n",
              "      <td>1</td>\n",
              "      <td>13.0</td>\n",
              "      <td>2010.0</td>\n",
              "      <td>Jan,Apr,Jul,Oct</td>\n",
              "    </tr>\n",
              "    <tr>\n",
              "      <th>2</th>\n",
              "      <td>3</td>\n",
              "      <td>a</td>\n",
              "      <td>a</td>\n",
              "      <td>14130.0</td>\n",
              "      <td>12.0</td>\n",
              "      <td>2006.0</td>\n",
              "      <td>1</td>\n",
              "      <td>14.0</td>\n",
              "      <td>2011.0</td>\n",
              "      <td>Jan,Apr,Jul,Oct</td>\n",
              "    </tr>\n",
              "    <tr>\n",
              "      <th>3</th>\n",
              "      <td>4</td>\n",
              "      <td>c</td>\n",
              "      <td>c</td>\n",
              "      <td>620.0</td>\n",
              "      <td>9.0</td>\n",
              "      <td>2009.0</td>\n",
              "      <td>0</td>\n",
              "      <td>NaN</td>\n",
              "      <td>NaN</td>\n",
              "      <td>NaN</td>\n",
              "    </tr>\n",
              "    <tr>\n",
              "      <th>4</th>\n",
              "      <td>5</td>\n",
              "      <td>a</td>\n",
              "      <td>a</td>\n",
              "      <td>29910.0</td>\n",
              "      <td>4.0</td>\n",
              "      <td>2015.0</td>\n",
              "      <td>0</td>\n",
              "      <td>NaN</td>\n",
              "      <td>NaN</td>\n",
              "      <td>NaN</td>\n",
              "    </tr>\n",
              "  </tbody>\n",
              "</table>\n",
              "</div>"
            ],
            "text/plain": [
              "   Store StoreType  ... Promo2SinceYear    PromoInterval\n",
              "0      1         c  ...             NaN              NaN\n",
              "1      2         a  ...          2010.0  Jan,Apr,Jul,Oct\n",
              "2      3         a  ...          2011.0  Jan,Apr,Jul,Oct\n",
              "3      4         c  ...             NaN              NaN\n",
              "4      5         a  ...             NaN              NaN\n",
              "\n",
              "[5 rows x 10 columns]"
            ]
          },
          "metadata": {
            "tags": []
          },
          "execution_count": 7
        }
      ]
    },
    {
      "cell_type": "code",
      "metadata": {
        "id": "7QcDwPtB7qM3",
        "outputId": "0374f0e3-8674-402c-f773-2fe8aa168281",
        "colab": {
          "base_uri": "https://localhost:8080/"
        }
      },
      "source": [
        "df_new = train.merge(store,on=['Store'],how='inner')\n",
        "df_new.shape"
      ],
      "execution_count": 8,
      "outputs": [
        {
          "output_type": "execute_result",
          "data": {
            "text/plain": [
              "(1017209, 18)"
            ]
          },
          "metadata": {
            "tags": []
          },
          "execution_count": 8
        }
      ]
    },
    {
      "cell_type": "code",
      "metadata": {
        "id": "ix18fFb_-kw3",
        "outputId": "d702c5d0-f24a-493d-b38c-eba21a1b98f2",
        "colab": {
          "base_uri": "https://localhost:8080/",
          "height": 226
        }
      },
      "source": [
        "df_new.head()"
      ],
      "execution_count": 9,
      "outputs": [
        {
          "output_type": "execute_result",
          "data": {
            "text/html": [
              "<div>\n",
              "<style scoped>\n",
              "    .dataframe tbody tr th:only-of-type {\n",
              "        vertical-align: middle;\n",
              "    }\n",
              "\n",
              "    .dataframe tbody tr th {\n",
              "        vertical-align: top;\n",
              "    }\n",
              "\n",
              "    .dataframe thead th {\n",
              "        text-align: right;\n",
              "    }\n",
              "</style>\n",
              "<table border=\"1\" class=\"dataframe\">\n",
              "  <thead>\n",
              "    <tr style=\"text-align: right;\">\n",
              "      <th></th>\n",
              "      <th>Store</th>\n",
              "      <th>DayOfWeek</th>\n",
              "      <th>Date</th>\n",
              "      <th>Sales</th>\n",
              "      <th>Customers</th>\n",
              "      <th>Open</th>\n",
              "      <th>Promo</th>\n",
              "      <th>StateHoliday</th>\n",
              "      <th>SchoolHoliday</th>\n",
              "      <th>StoreType</th>\n",
              "      <th>Assortment</th>\n",
              "      <th>CompetitionDistance</th>\n",
              "      <th>CompetitionOpenSinceMonth</th>\n",
              "      <th>CompetitionOpenSinceYear</th>\n",
              "      <th>Promo2</th>\n",
              "      <th>Promo2SinceWeek</th>\n",
              "      <th>Promo2SinceYear</th>\n",
              "      <th>PromoInterval</th>\n",
              "    </tr>\n",
              "  </thead>\n",
              "  <tbody>\n",
              "    <tr>\n",
              "      <th>0</th>\n",
              "      <td>1</td>\n",
              "      <td>5</td>\n",
              "      <td>2015-07-31</td>\n",
              "      <td>5263</td>\n",
              "      <td>555</td>\n",
              "      <td>1</td>\n",
              "      <td>1</td>\n",
              "      <td>0</td>\n",
              "      <td>1</td>\n",
              "      <td>c</td>\n",
              "      <td>a</td>\n",
              "      <td>1270.0</td>\n",
              "      <td>9.0</td>\n",
              "      <td>2008.0</td>\n",
              "      <td>0</td>\n",
              "      <td>NaN</td>\n",
              "      <td>NaN</td>\n",
              "      <td>NaN</td>\n",
              "    </tr>\n",
              "    <tr>\n",
              "      <th>1</th>\n",
              "      <td>1</td>\n",
              "      <td>4</td>\n",
              "      <td>2015-07-30</td>\n",
              "      <td>5020</td>\n",
              "      <td>546</td>\n",
              "      <td>1</td>\n",
              "      <td>1</td>\n",
              "      <td>0</td>\n",
              "      <td>1</td>\n",
              "      <td>c</td>\n",
              "      <td>a</td>\n",
              "      <td>1270.0</td>\n",
              "      <td>9.0</td>\n",
              "      <td>2008.0</td>\n",
              "      <td>0</td>\n",
              "      <td>NaN</td>\n",
              "      <td>NaN</td>\n",
              "      <td>NaN</td>\n",
              "    </tr>\n",
              "    <tr>\n",
              "      <th>2</th>\n",
              "      <td>1</td>\n",
              "      <td>3</td>\n",
              "      <td>2015-07-29</td>\n",
              "      <td>4782</td>\n",
              "      <td>523</td>\n",
              "      <td>1</td>\n",
              "      <td>1</td>\n",
              "      <td>0</td>\n",
              "      <td>1</td>\n",
              "      <td>c</td>\n",
              "      <td>a</td>\n",
              "      <td>1270.0</td>\n",
              "      <td>9.0</td>\n",
              "      <td>2008.0</td>\n",
              "      <td>0</td>\n",
              "      <td>NaN</td>\n",
              "      <td>NaN</td>\n",
              "      <td>NaN</td>\n",
              "    </tr>\n",
              "    <tr>\n",
              "      <th>3</th>\n",
              "      <td>1</td>\n",
              "      <td>2</td>\n",
              "      <td>2015-07-28</td>\n",
              "      <td>5011</td>\n",
              "      <td>560</td>\n",
              "      <td>1</td>\n",
              "      <td>1</td>\n",
              "      <td>0</td>\n",
              "      <td>1</td>\n",
              "      <td>c</td>\n",
              "      <td>a</td>\n",
              "      <td>1270.0</td>\n",
              "      <td>9.0</td>\n",
              "      <td>2008.0</td>\n",
              "      <td>0</td>\n",
              "      <td>NaN</td>\n",
              "      <td>NaN</td>\n",
              "      <td>NaN</td>\n",
              "    </tr>\n",
              "    <tr>\n",
              "      <th>4</th>\n",
              "      <td>1</td>\n",
              "      <td>1</td>\n",
              "      <td>2015-07-27</td>\n",
              "      <td>6102</td>\n",
              "      <td>612</td>\n",
              "      <td>1</td>\n",
              "      <td>1</td>\n",
              "      <td>0</td>\n",
              "      <td>1</td>\n",
              "      <td>c</td>\n",
              "      <td>a</td>\n",
              "      <td>1270.0</td>\n",
              "      <td>9.0</td>\n",
              "      <td>2008.0</td>\n",
              "      <td>0</td>\n",
              "      <td>NaN</td>\n",
              "      <td>NaN</td>\n",
              "      <td>NaN</td>\n",
              "    </tr>\n",
              "  </tbody>\n",
              "</table>\n",
              "</div>"
            ],
            "text/plain": [
              "   Store  DayOfWeek        Date  ...  Promo2SinceWeek  Promo2SinceYear  PromoInterval\n",
              "0      1          5  2015-07-31  ...              NaN              NaN            NaN\n",
              "1      1          4  2015-07-30  ...              NaN              NaN            NaN\n",
              "2      1          3  2015-07-29  ...              NaN              NaN            NaN\n",
              "3      1          2  2015-07-28  ...              NaN              NaN            NaN\n",
              "4      1          1  2015-07-27  ...              NaN              NaN            NaN\n",
              "\n",
              "[5 rows x 18 columns]"
            ]
          },
          "metadata": {
            "tags": []
          },
          "execution_count": 9
        }
      ]
    },
    {
      "cell_type": "code",
      "metadata": {
        "id": "92zxynSF7qUp",
        "outputId": "06f3e604-12ba-4755-e847-0b92bfde4981",
        "colab": {
          "base_uri": "https://localhost:8080/"
        }
      },
      "source": [
        "print(\"Unique number of Stores :\", len(df_new[\"Store\"].unique()))\n",
        "\n",
        "print(\"Unique number of Days :\", len(df_new[\"Date\"].unique()))\n",
        "\n",
        "print(\"Average daily sales of all stores : \",round(df_new[\"Sales\"].mean(),2))"
      ],
      "execution_count": 10,
      "outputs": [
        {
          "output_type": "stream",
          "text": [
            "Unique number of Stores : 1115\n",
            "Unique number of Days : 942\n",
            "Average daily sales of all stores :  5773.82\n"
          ],
          "name": "stdout"
        }
      ]
    },
    {
      "cell_type": "code",
      "metadata": {
        "id": "ioWdwYwj7rR5",
        "outputId": "08f5b945-772d-4277-cdfc-88a5d8df5d93",
        "colab": {
          "base_uri": "https://localhost:8080/"
        }
      },
      "source": [
        "df_new[\"DayOfWeek\"].value_counts()"
      ],
      "execution_count": 11,
      "outputs": [
        {
          "output_type": "execute_result",
          "data": {
            "text/plain": [
              "5    145845\n",
              "4    145845\n",
              "3    145665\n",
              "2    145664\n",
              "7    144730\n",
              "6    144730\n",
              "1    144730\n",
              "Name: DayOfWeek, dtype: int64"
            ]
          },
          "metadata": {
            "tags": []
          },
          "execution_count": 11
        }
      ]
    },
    {
      "cell_type": "code",
      "metadata": {
        "id": "0jXrsaTJ7rbl",
        "outputId": "8e7597cf-cf75-47a5-a461-f6f3f4282484",
        "colab": {
          "base_uri": "https://localhost:8080/"
        }
      },
      "source": [
        "#Extracting Datetime features \n",
        "df_new['Date'] = pd.to_datetime(df_new['Date'], infer_datetime_format=True)\n",
        "df_new[\"Month\"] = df_new[\"Date\"].dt.month\n",
        "df_new[\"Quarter\"] = df_new[\"Date\"].dt.quarter\n",
        "df_new[\"Year\"] = df_new[\"Date\"].dt.year\n",
        "df_new[\"Day\"] = df_new[\"Date\"].dt.day\n",
        "df_new[\"Week\"] = df_new[\"Date\"].dt.week\n",
        "df_new[\"Season\"] = np.where(df_new[\"Month\"].isin([3,4,5]),\n",
        "                            \"Spring\",np.where(df_new[\"Month\"].isin([6,7,8]),\n",
        "                            \"Summer\",np.where(df_new[\"Month\"].isin([9,10,11]),\n",
        "                            \"Fall\",np.where(df_new[\"Month\"].isin([12,1,2]),\n",
        "\"Winter\",\"None\"))))"
      ],
      "execution_count": 12,
      "outputs": [
        {
          "output_type": "stream",
          "text": [
            "/usr/local/lib/python3.6/dist-packages/ipykernel_launcher.py:7: FutureWarning: Series.dt.weekofyear and Series.dt.week have been deprecated.  Please use Series.dt.isocalendar().week instead.\n",
            "  import sys\n"
          ],
          "name": "stderr"
        }
      ]
    },
    {
      "cell_type": "code",
      "metadata": {
        "id": "EM28EPnt7r4a",
        "outputId": "c7374fe2-249d-40d0-db6d-61faf448acd4",
        "colab": {
          "base_uri": "https://localhost:8080/"
        }
      },
      "source": [
        "print(df_new[[\"Date\",\"Year\",\"Month\",\"Day\",\"Week\",\"Quarter\",\"Season\"]].head())"
      ],
      "execution_count": 13,
      "outputs": [
        {
          "output_type": "stream",
          "text": [
            "        Date  Year  Month  Day  Week  Quarter  Season\n",
            "0 2015-07-31  2015      7   31    31        3  Summer\n",
            "1 2015-07-30  2015      7   30    31        3  Summer\n",
            "2 2015-07-29  2015      7   29    31        3  Summer\n",
            "3 2015-07-28  2015      7   28    31        3  Summer\n",
            "4 2015-07-27  2015      7   27    31        3  Summer\n"
          ],
          "name": "stdout"
        }
      ]
    },
    {
      "cell_type": "markdown",
      "metadata": {
        "id": "zAIOsq2KEkQb"
      },
      "source": [
        "#Data Visualization"
      ]
    },
    {
      "cell_type": "code",
      "metadata": {
        "id": "9SDPXznK7qrT",
        "outputId": "350a3188-0949-4d89-ea74-a481f390fdff",
        "colab": {
          "base_uri": "https://localhost:8080/",
          "height": 513
        }
      },
      "source": [
        "plt.figure(figsize=(15,8))\n",
        "plt.hist(df_new[\"Sales\"])\n",
        "plt.title(\"Histogram for Store Sales\")\n",
        "plt.xlabel(\"bins\")\n",
        "plt.xlabel(\"Frequency\")\n",
        "plt.show()"
      ],
      "execution_count": 14,
      "outputs": [
        {
          "output_type": "display_data",
          "data": {
            "image/png": "[encoded data removed]",
            "text/plain": [
              "<Figure size 1080x576 with 1 Axes>"
            ]
          },
          "metadata": {
            "tags": [],
            "needs_background": "light"
          }
        }
      ]
    },
    {
      "cell_type": "code",
      "metadata": {
        "id": "6OCnPDjNAV8n",
        "outputId": "4b76a57e-7139-4d49-d163-b6fc5ea61e29",
        "colab": {
          "base_uri": "https://localhost:8080/"
        }
      },
      "source": [
        "num_data = df_new.select_dtypes(exclude='object').columns.tolist()\n",
        "num_data"
      ],
      "execution_count": 15,
      "outputs": [
        {
          "output_type": "execute_result",
          "data": {
            "text/plain": [
              "['Store',\n",
              " 'DayOfWeek',\n",
              " 'Date',\n",
              " 'Sales',\n",
              " 'Customers',\n",
              " 'Open',\n",
              " 'Promo',\n",
              " 'SchoolHoliday',\n",
              " 'CompetitionDistance',\n",
              " 'CompetitionOpenSinceMonth',\n",
              " 'CompetitionOpenSinceYear',\n",
              " 'Promo2',\n",
              " 'Promo2SinceWeek',\n",
              " 'Promo2SinceYear',\n",
              " 'Month',\n",
              " 'Quarter',\n",
              " 'Year',\n",
              " 'Day',\n",
              " 'Week']"
            ]
          },
          "metadata": {
            "tags": []
          },
          "execution_count": 15
        }
      ]
    },
    {
      "cell_type": "code",
      "metadata": {
        "id": "phHVOTZp7qoo",
        "outputId": "26e4f7d2-fc35-479f-9971-e2f318e0782d",
        "colab": {
          "base_uri": "https://localhost:8080/",
          "height": 995
        }
      },
      "source": [
        "#Use the histogram function provided by the Pandas object\n",
        "#The function returns a cross-tab histogram plot \n",
        "#for allnumeric columns in the data\n",
        "df_new[num_data].hist(figsize=(20,10))"
      ],
      "execution_count": 16,
      "outputs": [
        {
          "output_type": "execute_result",
          "data": {
            "text/plain": [
              "array([[<matplotlib.axes._subplots.AxesSubplot object at 0x7fd6e4d6b2e8>,\n",
              "        <matplotlib.axes._subplots.AxesSubplot object at 0x7fd6e4d4b630>,\n",
              "        <matplotlib.axes._subplots.AxesSubplot object at 0x7fd6e4cfc898>,\n",
              "        <matplotlib.axes._subplots.AxesSubplot object at 0x7fd6e4cb2b00>],\n",
              "       [<matplotlib.axes._subplots.AxesSubplot object at 0x7fd6e4c66cc0>,\n",
              "        <matplotlib.axes._subplots.AxesSubplot object at 0x7fd6e4c27048>,\n",
              "        <matplotlib.axes._subplots.AxesSubplot object at 0x7fd6e4c59400>,\n",
              "        <matplotlib.axes._subplots.AxesSubplot object at 0x7fd6e4c08748>],\n",
              "       [<matplotlib.axes._subplots.AxesSubplot object at 0x7fd6e4c087b8>,\n",
              "        <matplotlib.axes._subplots.AxesSubplot object at 0x7fd6e4b6de80>,\n",
              "        <matplotlib.axes._subplots.AxesSubplot object at 0x7fd6e4b2a240>,\n",
              "        <matplotlib.axes._subplots.AxesSubplot object at 0x7fd6e4b5e5c0>],\n",
              "       [<matplotlib.axes._subplots.AxesSubplot object at 0x7fd6e4b0f940>,\n",
              "        <matplotlib.axes._subplots.AxesSubplot object at 0x7fd6e4ac2cc0>,\n",
              "        <matplotlib.axes._subplots.AxesSubplot object at 0x7fd6e4a84048>,\n",
              "        <matplotlib.axes._subplots.AxesSubplot object at 0x7fd6e4a34400>],\n",
              "       [<matplotlib.axes._subplots.AxesSubplot object at 0x7fd6e49e5780>,\n",
              "        <matplotlib.axes._subplots.AxesSubplot object at 0x7fd6e4a18b00>,\n",
              "        <matplotlib.axes._subplots.AxesSubplot object at 0x7fd6e49cae80>,\n",
              "        <matplotlib.axes._subplots.AxesSubplot object at 0x7fd6e4989240>]],\n",
              "      dtype=object)"
            ]
          },
          "metadata": {
            "tags": []
          },
          "execution_count": 16
        },
        {
          "output_type": "display_data",
          "data": {
            "image/png": "[encoded data removed]",
            "text/plain": [
              "<Figure size 1440x720 with 20 Axes>"
            ]
          },
          "metadata": {
            "tags": [],
            "needs_background": "light"
          }
        }
      ]
    },
    {
      "cell_type": "markdown",
      "metadata": {
        "id": "RMxry_MYBHVd"
      },
      "source": [
        "Promo2 is well distributed between the two distinct values, whereas\n",
        "Promo has more records for ‘1’ and Open has most of the store records\n",
        "as ‘1’. The distribution between the values for ‘Open’ makes sense, as the\n",
        "stores will be open for most days except state holidays."
      ]
    },
    {
      "cell_type": "markdown",
      "metadata": {
        "id": "0S3kFWdPA64Y"
      },
      "source": [
        "We can see that the features Promo, Promo2, School\n",
        "Holiday, and Open are actually binary categorical features: they represent\n",
        "two possible values similar to gender: Male or Female. Therefore, these\n",
        "are actually categorical features but already encoded as numeric columns.\n",
        "This is great; we won’t need to further process them, as DL models\n",
        "understand only numeric values."
      ]
    },
    {
      "cell_type": "markdown",
      "metadata": {
        "id": "_bOZkBpnBM1Z"
      },
      "source": [
        "Customer numbers range from 0 to 2,000 for most stores. A few stores\n",
        "have as many as 7000 daily customers, but these are outliers and we might\n",
        "need to fix them before modeling."
      ]
    },
    {
      "cell_type": "code",
      "metadata": {
        "id": "QCbZLiTo7qmV",
        "outputId": "a5e27312-d4f9-482f-b089-84dd90bba707",
        "colab": {
          "base_uri": "https://localhost:8080/"
        }
      },
      "source": [
        "df_new.isnull().sum()/df_new.shape[0] * 100"
      ],
      "execution_count": 17,
      "outputs": [
        {
          "output_type": "execute_result",
          "data": {
            "text/plain": [
              "Store                         0.000000\n",
              "DayOfWeek                     0.000000\n",
              "Date                          0.000000\n",
              "Sales                         0.000000\n",
              "Customers                     0.000000\n",
              "Open                          0.000000\n",
              "Promo                         0.000000\n",
              "StateHoliday                  0.000000\n",
              "SchoolHoliday                 0.000000\n",
              "StoreType                     0.000000\n",
              "Assortment                    0.000000\n",
              "CompetitionDistance           0.259730\n",
              "CompetitionOpenSinceMonth    31.787764\n",
              "CompetitionOpenSinceYear     31.787764\n",
              "Promo2                        0.000000\n",
              "Promo2SinceWeek              49.943620\n",
              "Promo2SinceYear              49.943620\n",
              "PromoInterval                49.943620\n",
              "Month                         0.000000\n",
              "Quarter                       0.000000\n",
              "Year                          0.000000\n",
              "Day                           0.000000\n",
              "Week                          0.000000\n",
              "Season                        0.000000\n",
              "dtype: float64"
            ]
          },
          "metadata": {
            "tags": []
          },
          "execution_count": 17
        }
      ]
    },
    {
      "cell_type": "code",
      "metadata": {
        "id": "ViWdqxxG7qjp",
        "outputId": "19be56ab-6762-4691-96de-adc97aa8cc11",
        "colab": {
          "base_uri": "https://localhost:8080/"
        }
      },
      "source": [
        "df_new[\"CompetitionDistance\"]=df_new[\"CompetitionDistance\"].fillna(df_new[\"CompetitionDistance\"].mode()[0])\n",
        "#Double checking\n",
        "df_new[\"CompetitionDistance\"].isnull().sum()/df_new.shape[0] * 100"
      ],
      "execution_count": 18,
      "outputs": [
        {
          "output_type": "execute_result",
          "data": {
            "text/plain": [
              "0.0"
            ]
          },
          "metadata": {
            "tags": []
          },
          "execution_count": 18
        }
      ]
    },
    {
      "cell_type": "markdown",
      "metadata": {
        "id": "5IZ0gY6nBskz"
      },
      "source": [
        "As a rule of thumb,\n",
        "if there is a loss of anything between 0% and 10%, we can make a few\n",
        "attempts to fill the missing points and use the feature. But, 30% technically\n",
        "becomes beyond the usable range."
      ]
    },
    {
      "cell_type": "code",
      "metadata": {
        "id": "f_Uhi1Z47qha",
        "outputId": "6041dd7a-70d2-4f85-98a1-6513eef2765f",
        "colab": {
          "base_uri": "https://localhost:8080/",
          "height": 279
        }
      },
      "source": [
        "ax = sns.barplot(x=\"Season\", y=\"Sales\", data=df_new)"
      ],
      "execution_count": 19,
      "outputs": [
        {
          "output_type": "display_data",
          "data": {
            "image/png": "[encoded data removed]",
            "text/plain": [
              "<Figure size 432x288 with 1 Axes>"
            ]
          },
          "metadata": {
            "tags": [],
            "needs_background": "light"
          }
        }
      ]
    },
    {
      "cell_type": "code",
      "metadata": {
        "id": "9xujIJ9M7qet",
        "outputId": "165d2458-5a9f-4f5c-b85a-0b49419eb098",
        "colab": {
          "base_uri": "https://localhost:8080/",
          "height": 279
        }
      },
      "source": [
        "ax = sns.barplot(x=\"Assortment\", y=\"Sales\", data=df_new)"
      ],
      "execution_count": 20,
      "outputs": [
        {
          "output_type": "display_data",
          "data": {
            "image/png": "[encoded data removed]",
            "text/plain": [
              "<Figure size 432x288 with 1 Axes>"
            ]
          },
          "metadata": {
            "tags": [],
            "needs_background": "light"
          }
        }
      ]
    },
    {
      "cell_type": "code",
      "metadata": {
        "id": "BT9l_hEm7qb-",
        "outputId": "3add541e-1cbe-4c4c-be0d-dd02b90ebe83",
        "colab": {
          "base_uri": "https://localhost:8080/",
          "height": 279
        }
      },
      "source": [
        "ax = sns.barplot(x=\"StoreType\", y=\"Sales\", data=df_new)"
      ],
      "execution_count": 21,
      "outputs": [
        {
          "output_type": "display_data",
          "data": {
            "image/png": "[encoded data removed]",
            "text/plain": [
              "<Figure size 432x288 with 1 Axes>"
            ]
          },
          "metadata": {
            "tags": [],
            "needs_background": "light"
          }
        }
      ]
    },
    {
      "cell_type": "code",
      "metadata": {
        "id": "S9Jd4X1sCklB",
        "outputId": "dafdb8bd-95b0-4716-da8c-1f6fc61d2532",
        "colab": {
          "base_uri": "https://localhost:8080/",
          "height": 279
        }
      },
      "source": [
        "ax = sns.barplot(x=\"Season\", y=\"Sales\", data=df_new,estimator=np.size)"
      ],
      "execution_count": 22,
      "outputs": [
        {
          "output_type": "display_data",
          "data": {
            "image/png": "[encoded data removed]",
            "text/plain": [
              "<Figure size 432x288 with 1 Axes>"
            ]
          },
          "metadata": {
            "tags": [],
            "needs_background": "light"
          }
        }
      ]
    },
    {
      "cell_type": "code",
      "metadata": {
        "id": "KOFeFu9eCkbr",
        "outputId": "7acb5245-115b-4801-b60e-8cdf5ceeed13",
        "colab": {
          "base_uri": "https://localhost:8080/",
          "height": 279
        }
      },
      "source": [
        "ax = sns.barplot(x=\"Assortment\", y=\"Sales\", data=df_new,estimator=np.size)"
      ],
      "execution_count": 23,
      "outputs": [
        {
          "output_type": "display_data",
          "data": {
            "image/png": "[encoded data removed]",
            "text/plain": [
              "<Figure size 432x288 with 1 Axes>"
            ]
          },
          "metadata": {
            "tags": [],
            "needs_background": "light"
          }
        }
      ]
    },
    {
      "cell_type": "code",
      "metadata": {
        "id": "AKONbskg7qaT",
        "outputId": "b4e7da38-c050-44de-c8c1-80d1b199a51e",
        "colab": {
          "base_uri": "https://localhost:8080/",
          "height": 279
        }
      },
      "source": [
        "ax = sns.barplot(x=\"StoreType\", y=\"Sales\", data=df_new,estimator=np.size)"
      ],
      "execution_count": 24,
      "outputs": [
        {
          "output_type": "display_data",
          "data": {
            "image/png": "[encoded data removed]",
            "text/plain": [
              "<Figure size 432x288 with 1 Axes>"
            ]
          },
          "metadata": {
            "tags": [],
            "needs_background": "light"
          }
        }
      ]
    },
    {
      "cell_type": "markdown",
      "metadata": {
        "id": "dJttEAVOEuTY"
      },
      "source": [
        "#Feature Enginnering"
      ]
    },
    {
      "cell_type": "code",
      "metadata": {
        "id": "vmkbgke67qYJ"
      },
      "source": [
        "#Define a variable for each type of feature\n",
        "from sklearn.preprocessing import LabelEncoder\n",
        "from sklearn.preprocessing import OneHotEncoder\n",
        "target = [\"Sales\"]\n",
        "numeric_columns = [\"Customers\",\"Open\",\"Promo\",\"Promo2\",\"StateHoliday\",\"SchoolHoliday\",\"CompetitionDistance\"]\n",
        "categorical_columns = [\"DayOfWeek\",\"Quarter\",\"Month\",\"Year\",\"StoreType\",\"Assortment\",\"Season\"]"
      ],
      "execution_count": 25,
      "outputs": []
    },
    {
      "cell_type": "code",
      "metadata": {
        "id": "fI2SQTbyDTne"
      },
      "source": [
        "#Define a function that will intake the raw dataframe and thecolumn name and return a one hot encoded DF\n",
        "def create_ohe(df, col):\n",
        "  le = LabelEncoder()\n",
        "  a=le.fit_transform(df_new[col]).reshape(-1,1)\n",
        "  ohe = OneHotEncoder(sparse=False)\n",
        "  column_names = [col+ \"_\"+ str(i) for i in le.classes_]\n",
        "  return(pd.DataFrame(ohe.fit_transform(a),columns =column_names))    "
      ],
      "execution_count": 26,
      "outputs": []
    },
    {
      "cell_type": "code",
      "metadata": {
        "id": "kjt9rJxdDTt_"
      },
      "source": [
        "#Since the above function converts the column, one at a time\n",
        "#We create a loop to create the final dataset with all features\n",
        "temp = df_new[numeric_columns]\n",
        "for column in categorical_columns:\n",
        "  temp_df = create_ohe(df_new,column)\n",
        "  temp = pd.concat([temp,temp_df],axis=1)"
      ],
      "execution_count": 27,
      "outputs": []
    },
    {
      "cell_type": "code",
      "metadata": {
        "id": "_b_-g6l-DT6T",
        "outputId": "8e388df0-1317-4b8d-f388-ba6687596330",
        "colab": {
          "base_uri": "https://localhost:8080/"
        }
      },
      "source": [
        "print(\"Shape of Data:\",temp.shape)\n",
        "print(\"Distinct dtypes:\",temp.dtypes.unique())"
      ],
      "execution_count": 28,
      "outputs": [
        {
          "output_type": "stream",
          "text": [
            "Shape of Data: (1017209, 44)\n",
            "Distinct dtypes: [dtype('int64') dtype('O') dtype('float64')]\n"
          ],
          "name": "stdout"
        }
      ]
    },
    {
      "cell_type": "code",
      "metadata": {
        "id": "WLw5jeCwDT_e",
        "outputId": "d79edf22-6144-4749-f3bc-fcd2ad78cef3",
        "colab": {
          "base_uri": "https://localhost:8080/"
        }
      },
      "source": [
        "print(temp.columns[temp.dtypes==\"object\"])"
      ],
      "execution_count": 29,
      "outputs": [
        {
          "output_type": "stream",
          "text": [
            "Index(['StateHoliday'], dtype='object')\n"
          ],
          "name": "stdout"
        }
      ]
    },
    {
      "cell_type": "code",
      "metadata": {
        "id": "E3NB0ojEDT9N",
        "outputId": "9803bd56-84bf-470d-8e18-8edd347ad840",
        "colab": {
          "base_uri": "https://localhost:8080/"
        }
      },
      "source": [
        "temp[\"StateHoliday\"].unique()"
      ],
      "execution_count": 30,
      "outputs": [
        {
          "output_type": "execute_result",
          "data": {
            "text/plain": [
              "array(['0', 'a', 'b', 'c', 0], dtype=object)"
            ]
          },
          "metadata": {
            "tags": []
          },
          "execution_count": 30
        }
      ]
    },
    {
      "cell_type": "code",
      "metadata": {
        "id": "HhUoVki6EtG1",
        "outputId": "8123b6f3-a713-4110-bd42-caad7372c185",
        "colab": {
          "base_uri": "https://localhost:8080/"
        }
      },
      "source": [
        "temp[\"StateHoliday\"]= np.where(temp[\"StateHoliday\"]== '0',0,1)\n",
        "#One last check of the data type\n",
        "temp.dtypes.unique()"
      ],
      "execution_count": 31,
      "outputs": [
        {
          "output_type": "execute_result",
          "data": {
            "text/plain": [
              "array([dtype('int64'), dtype('float64')], dtype=object)"
            ]
          },
          "metadata": {
            "tags": []
          },
          "execution_count": 31
        }
      ]
    },
    {
      "cell_type": "markdown",
      "metadata": {
        "id": "3hbfLkSBE4dS"
      },
      "source": [
        "#Designing the Model"
      ]
    },
    {
      "cell_type": "code",
      "metadata": {
        "id": "J56L1Ve3Euqs"
      },
      "source": [
        "x_train, x_test, y_train, y_test = train_test_split(temp,df_new[target],test_size=0.2,random_state=2020)\n",
        "\n",
        "x_train, x_val, y_train, y_val = train_test_split(x_train,y_train,test_size=0.1,random_state=2020)"
      ],
      "execution_count": 32,
      "outputs": []
    },
    {
      "cell_type": "code",
      "metadata": {
        "id": "DU051acNEu7j",
        "outputId": "4396c453-4326-421a-b4a0-0e3fec39e6f0",
        "colab": {
          "base_uri": "https://localhost:8080/"
        }
      },
      "source": [
        "#Check the sizes of all newly created datasets\n",
        "print(\"Shape of x_train:\",x_train.shape)\n",
        "print(\"Shape of x_val:\",x_val.shape)\n",
        "print(\"Shape of x_test:\",x_test.shape)\n",
        "print(\"Shape of y_train:\",y_train.shape)\n",
        "print(\"Shape of y_val:\",y_val.shape)\n",
        "print(\"Shape of y_test:\",y_test.shape)"
      ],
      "execution_count": 33,
      "outputs": [
        {
          "output_type": "stream",
          "text": [
            "Shape of x_train: (732390, 44)\n",
            "Shape of x_val: (81377, 44)\n",
            "Shape of x_test: (203442, 44)\n",
            "Shape of y_train: (732390, 1)\n",
            "Shape of y_val: (81377, 1)\n",
            "Shape of y_test: (203442, 1)\n"
          ],
          "name": "stdout"
        }
      ]
    },
    {
      "cell_type": "code",
      "metadata": {
        "id": "hiMZBpV7Evb9",
        "outputId": "695f30bc-f7e8-4bc4-8086-2c9a9ecc2b30",
        "colab": {
          "base_uri": "https://localhost:8080/"
        }
      },
      "source": [
        "#basline performance\n",
        "mean_sales = y_train.mean()\n",
        "print(\"Average Sales :\",mean_sales)"
      ],
      "execution_count": 34,
      "outputs": [
        {
          "output_type": "stream",
          "text": [
            "Average Sales : Sales    5768.635754\n",
            "dtype: float64\n"
          ],
          "name": "stdout"
        }
      ]
    },
    {
      "cell_type": "code",
      "metadata": {
        "id": "CIVT8ixvEv1z",
        "outputId": "000d0ff8-c89a-4fa0-e0c8-ad0b7e97b2c0",
        "colab": {
          "base_uri": "https://localhost:8080/"
        }
      },
      "source": [
        "#Calculate the Mean Absolute Error on the test dataset\n",
        "print(\"MAE for Test Data:\",abs(y_test - mean_sales).mean()[0])"
      ],
      "execution_count": 35,
      "outputs": [
        {
          "output_type": "stream",
          "text": [
            "MAE for Test Data: 2897.23844888125\n"
          ],
          "name": "stdout"
        }
      ]
    },
    {
      "cell_type": "code",
      "metadata": {
        "id": "HACxCwJcIAeE"
      },
      "source": [
        "#starting with [small+1] layer\n",
        "model = Sequential([\n",
        "                    layers.Dense(150,input_dim = 44,activation=\"relu\"),\n",
        "                    layers.Dense(1,activation = \"linear\")])"
      ],
      "execution_count": 36,
      "outputs": []
    },
    {
      "cell_type": "code",
      "metadata": {
        "id": "dPl8qc5QIAm5",
        "outputId": "660404c8-df74-4474-ee76-3fda5a46a9e9",
        "colab": {
          "base_uri": "https://localhost:8080/"
        }
      },
      "source": [
        "model.compile(optimizer='adam',loss=\"mean_absolute_error\",metrics=[\"mean_absolute_error\"])\n",
        "\n",
        "model.fit(x_train.values,y_train.values,\n",
        "          validation_data=(x_val,y_val),\n",
        "          epochs=15,\n",
        "          batch_size=64)"
      ],
      "execution_count": 37,
      "outputs": [
        {
          "output_type": "stream",
          "text": [
            "Epoch 1/15\n",
            "11444/11444 [==============================] - 15s 1ms/step - loss: 957.2200 - mean_absolute_error: 957.2200 - val_loss: 839.8917 - val_mean_absolute_error: 839.8917\n",
            "Epoch 2/15\n",
            "11444/11444 [==============================] - 14s 1ms/step - loss: 788.0162 - mean_absolute_error: 788.0162 - val_loss: 750.2580 - val_mean_absolute_error: 750.2580\n",
            "Epoch 3/15\n",
            "11444/11444 [==============================] - 15s 1ms/step - loss: 740.8555 - mean_absolute_error: 740.8555 - val_loss: 735.4443 - val_mean_absolute_error: 735.4443\n",
            "Epoch 4/15\n",
            "11444/11444 [==============================] - 14s 1ms/step - loss: 722.7384 - mean_absolute_error: 722.7384 - val_loss: 717.0183 - val_mean_absolute_error: 717.0183\n",
            "Epoch 5/15\n",
            "11444/11444 [==============================] - 14s 1ms/step - loss: 712.3002 - mean_absolute_error: 712.3002 - val_loss: 713.2079 - val_mean_absolute_error: 713.2079\n",
            "Epoch 6/15\n",
            "11444/11444 [==============================] - 14s 1ms/step - loss: 704.6502 - mean_absolute_error: 704.6502 - val_loss: 695.3441 - val_mean_absolute_error: 695.3441\n",
            "Epoch 7/15\n",
            "11444/11444 [==============================] - 14s 1ms/step - loss: 699.5181 - mean_absolute_error: 699.5181 - val_loss: 694.2664 - val_mean_absolute_error: 694.2664\n",
            "Epoch 8/15\n",
            "11444/11444 [==============================] - 14s 1ms/step - loss: 695.9111 - mean_absolute_error: 695.9111 - val_loss: 697.3613 - val_mean_absolute_error: 697.3613\n",
            "Epoch 9/15\n",
            "11444/11444 [==============================] - 14s 1ms/step - loss: 690.6873 - mean_absolute_error: 690.6873 - val_loss: 688.0123 - val_mean_absolute_error: 688.0123\n",
            "Epoch 10/15\n",
            "11444/11444 [==============================] - 14s 1ms/step - loss: 686.0074 - mean_absolute_error: 686.0074 - val_loss: 680.4117 - val_mean_absolute_error: 680.4117\n",
            "Epoch 11/15\n",
            "11444/11444 [==============================] - 14s 1ms/step - loss: 683.0942 - mean_absolute_error: 683.0942 - val_loss: 681.8882 - val_mean_absolute_error: 681.8882\n",
            "Epoch 12/15\n",
            "11444/11444 [==============================] - 14s 1ms/step - loss: 679.6684 - mean_absolute_error: 679.6684 - val_loss: 668.8599 - val_mean_absolute_error: 668.8599\n",
            "Epoch 13/15\n",
            "11444/11444 [==============================] - 15s 1ms/step - loss: 675.9559 - mean_absolute_error: 675.9559 - val_loss: 673.3776 - val_mean_absolute_error: 673.3776\n",
            "Epoch 14/15\n",
            "11444/11444 [==============================] - 16s 1ms/step - loss: 674.4479 - mean_absolute_error: 674.4479 - val_loss: 665.6619 - val_mean_absolute_error: 665.6619\n",
            "Epoch 15/15\n",
            "11444/11444 [==============================] - 14s 1ms/step - loss: 671.9449 - mean_absolute_error: 671.9449 - val_loss: 662.3102 - val_mean_absolute_error: 662.3102\n"
          ],
          "name": "stdout"
        },
        {
          "output_type": "execute_result",
          "data": {
            "text/plain": [
              "<tensorflow.python.keras.callbacks.History at 0x7fd6dc8faf60>"
            ]
          },
          "metadata": {
            "tags": []
          },
          "execution_count": 37
        }
      ]
    },
    {
      "cell_type": "code",
      "metadata": {
        "id": "v9VuKJQ4IAwD",
        "outputId": "195cc815-e0a7-422b-c7bd-1adbe6500692",
        "colab": {
          "base_uri": "https://localhost:8080/"
        }
      },
      "source": [
        "result = model.evaluate(x_test.values,y_test.values)\n",
        "#Print the results\n",
        "for i in range(len(model.metrics_names)):\n",
        "  print(\"Metric \",model.metrics_names[i],\":\",str(round(result[i],2)))"
      ],
      "execution_count": 38,
      "outputs": [
        {
          "output_type": "stream",
          "text": [
            "6358/6358 [==============================] - 7s 1ms/step - loss: 666.9625 - mean_absolute_error: 666.9625\n",
            "Metric  loss : 666.96\n",
            "Metric  mean_absolute_error : 666.96\n"
          ],
          "name": "stdout"
        }
      ]
    },
    {
      "cell_type": "code",
      "metadata": {
        "id": "NEM6qCE9IA5z"
      },
      "source": [
        "#improving model\n",
        "#Using [small+3] layers\n",
        "model = Sequential([\n",
        "                    layers.Dense(150,input_dim = 44,activation=\"relu\"),\n",
        "                    layers.Dense(150,activation=\"relu\"),\n",
        "                    layers.Dense(150,activation=\"relu\"),\n",
        "                    layers.Dense(1,activation = \"linear\")])"
      ],
      "execution_count": 39,
      "outputs": []
    },
    {
      "cell_type": "code",
      "metadata": {
        "id": "pDKk3h2iIBB6",
        "outputId": "0bdb0a5d-b5c2-4ea0-d2e3-4048dd3e2df1",
        "colab": {
          "base_uri": "https://localhost:8080/"
        }
      },
      "source": [
        "model.compile(optimizer='adam',loss=\"mean_squared_error\",metrics=[\"mean_absolute_error\"])\n",
        "\n",
        "history = model.fit(x_train,y_train,\n",
        "                    validation_data=(x_val,y_val),\n",
        "                    epochs=10,\n",
        "                    batch_size=64)"
      ],
      "execution_count": 40,
      "outputs": [
        {
          "output_type": "stream",
          "text": [
            "Epoch 1/10\n",
            "11444/11444 [==============================] - 27s 2ms/step - loss: 1698491.3750 - mean_absolute_error: 847.7086 - val_loss: 1152658.0000 - val_mean_absolute_error: 728.6884\n",
            "Epoch 2/10\n",
            "11444/11444 [==============================] - 26s 2ms/step - loss: 1142008.6250 - mean_absolute_error: 717.8634 - val_loss: 1193266.1250 - val_mean_absolute_error: 729.6296\n",
            "Epoch 3/10\n",
            "11444/11444 [==============================] - 26s 2ms/step - loss: 1078503.8750 - mean_absolute_error: 697.9745 - val_loss: 1421985.7500 - val_mean_absolute_error: 785.2311\n",
            "Epoch 4/10\n",
            "11444/11444 [==============================] - 26s 2ms/step - loss: 1041457.3125 - mean_absolute_error: 685.5266 - val_loss: 976642.3750 - val_mean_absolute_error: 664.1721\n",
            "Epoch 5/10\n",
            "11444/11444 [==============================] - 26s 2ms/step - loss: 1020525.0000 - mean_absolute_error: 680.0262 - val_loss: 961763.5625 - val_mean_absolute_error: 665.3793\n",
            "Epoch 6/10\n",
            "11444/11444 [==============================] - 26s 2ms/step - loss: 1000266.8750 - mean_absolute_error: 673.5889 - val_loss: 957244.6875 - val_mean_absolute_error: 656.5018\n",
            "Epoch 7/10\n",
            "11444/11444 [==============================] - 26s 2ms/step - loss: 975815.5625 - mean_absolute_error: 667.0716 - val_loss: 1043713.3750 - val_mean_absolute_error: 701.1705\n",
            "Epoch 8/10\n",
            "11444/11444 [==============================] - 26s 2ms/step - loss: 954070.5000 - mean_absolute_error: 660.7411 - val_loss: 922575.4375 - val_mean_absolute_error: 644.6930\n",
            "Epoch 9/10\n",
            "11444/11444 [==============================] - 26s 2ms/step - loss: 945069.3750 - mean_absolute_error: 657.1755 - val_loss: 941887.4375 - val_mean_absolute_error: 662.4520\n",
            "Epoch 10/10\n",
            "11444/11444 [==============================] - 26s 2ms/step - loss: 922872.7500 - mean_absolute_error: 649.8077 - val_loss: 890338.5625 - val_mean_absolute_error: 635.9274\n"
          ],
          "name": "stdout"
        }
      ]
    },
    {
      "cell_type": "code",
      "metadata": {
        "id": "Yrw1FGgcLKC7",
        "outputId": "31e16ad5-be70-44ae-ff4e-c4083047d7d3",
        "colab": {
          "base_uri": "https://localhost:8080/"
        }
      },
      "source": [
        "result = model.evaluate(x_test,y_test)\n",
        "for i in range(len(model.metrics_names)):\n",
        "  print(\"Metric \",model.metrics_names[i],\":\",str(round(result[i],2)))"
      ],
      "execution_count": 41,
      "outputs": [
        {
          "output_type": "stream",
          "text": [
            "6358/6358 [==============================] - 6s 960us/step - loss: 898015.8750 - mean_absolute_error: 638.0446\n",
            "Metric  loss : 898015.88\n",
            "Metric  mean_absolute_error : 638.04\n"
          ],
          "name": "stdout"
        }
      ]
    },
    {
      "cell_type": "code",
      "metadata": {
        "id": "XcT1LnNgLMLa"
      },
      "source": [
        "#small + 5 layers\n",
        "model = Sequential([\n",
        "                    layers.Dense(150,input_dim = 44,activation=\"relu\"),\n",
        "                    layers.Dense(150,activation=\"relu\"),\n",
        "                    layers.Dense(150,activation=\"relu\"),\n",
        "                    layers.Dense(150,activation=\"relu\"),\n",
        "                    layers.Dense(150,activation=\"relu\"),\n",
        "                    layers.Dense(1,activation = \"linear\")])"
      ],
      "execution_count": 42,
      "outputs": []
    },
    {
      "cell_type": "code",
      "metadata": {
        "id": "ZWaq321wLbZk",
        "outputId": "7c25e0fd-47e9-47df-d117-e6b95dad74d7",
        "colab": {
          "base_uri": "https://localhost:8080/"
        }
      },
      "source": [
        "model.compile(optimizer='adam',loss=\"mean_squared_error\",metrics=[\"mean_absolute_error\"])\n",
        "\n",
        "model.fit(x_train,y_train,\n",
        "          validation_data=(x_val,y_val),\n",
        "          epochs=15,\n",
        "          batch_size=64)"
      ],
      "execution_count": 43,
      "outputs": [
        {
          "output_type": "stream",
          "text": [
            "Epoch 1/15\n",
            "11444/11444 [==============================] - 39s 3ms/step - loss: 1702344.6250 - mean_absolute_error: 849.7009 - val_loss: 1162534.1250 - val_mean_absolute_error: 713.7448\n",
            "Epoch 2/15\n",
            "11444/11444 [==============================] - 38s 3ms/step - loss: 1154800.2500 - mean_absolute_error: 721.2360 - val_loss: 1246938.0000 - val_mean_absolute_error: 741.9233\n",
            "Epoch 3/15\n",
            "11444/11444 [==============================] - 38s 3ms/step - loss: 1081370.3750 - mean_absolute_error: 697.0290 - val_loss: 1008584.9375 - val_mean_absolute_error: 676.4883\n",
            "Epoch 4/15\n",
            "11444/11444 [==============================] - 39s 3ms/step - loss: 1050220.3750 - mean_absolute_error: 686.6612 - val_loss: 961860.1875 - val_mean_absolute_error: 659.9133\n",
            "Epoch 5/15\n",
            "11444/11444 [==============================] - 37s 3ms/step - loss: 1027537.5000 - mean_absolute_error: 679.7642 - val_loss: 956001.6875 - val_mean_absolute_error: 655.4492\n",
            "Epoch 6/15\n",
            "11444/11444 [==============================] - 37s 3ms/step - loss: 1004586.0000 - mean_absolute_error: 673.1125 - val_loss: 991739.7500 - val_mean_absolute_error: 671.0720\n",
            "Epoch 7/15\n",
            "11444/11444 [==============================] - 37s 3ms/step - loss: 982678.5000 - mean_absolute_error: 666.4344 - val_loss: 939857.1875 - val_mean_absolute_error: 661.4778\n",
            "Epoch 8/15\n",
            "11444/11444 [==============================] - 37s 3ms/step - loss: 965331.4375 - mean_absolute_error: 661.5712 - val_loss: 949746.5000 - val_mean_absolute_error: 659.9999\n",
            "Epoch 9/15\n",
            "11444/11444 [==============================] - 38s 3ms/step - loss: 942804.4375 - mean_absolute_error: 654.1304 - val_loss: 893955.4375 - val_mean_absolute_error: 636.8546\n",
            "Epoch 10/15\n",
            "11444/11444 [==============================] - 38s 3ms/step - loss: 928097.3125 - mean_absolute_error: 649.4544 - val_loss: 887722.3125 - val_mean_absolute_error: 643.3654\n",
            "Epoch 11/15\n",
            "11444/11444 [==============================] - 36s 3ms/step - loss: 909915.2500 - mean_absolute_error: 642.6094 - val_loss: 964953.1250 - val_mean_absolute_error: 677.6066\n",
            "Epoch 12/15\n",
            "11444/11444 [==============================] - 36s 3ms/step - loss: 902982.2500 - mean_absolute_error: 639.8865 - val_loss: 856290.6250 - val_mean_absolute_error: 621.6115\n",
            "Epoch 13/15\n",
            "11444/11444 [==============================] - 36s 3ms/step - loss: 890480.5000 - mean_absolute_error: 634.8467 - val_loss: 902016.4375 - val_mean_absolute_error: 631.8509\n",
            "Epoch 14/15\n",
            "11444/11444 [==============================] - 36s 3ms/step - loss: 881313.3750 - mean_absolute_error: 632.1332 - val_loss: 854727.5625 - val_mean_absolute_error: 622.4472\n",
            "Epoch 15/15\n",
            "11444/11444 [==============================] - 37s 3ms/step - loss: 869084.8125 - mean_absolute_error: 627.1276 - val_loss: 809259.4375 - val_mean_absolute_error: 604.5870\n"
          ],
          "name": "stdout"
        },
        {
          "output_type": "execute_result",
          "data": {
            "text/plain": [
              "<tensorflow.python.keras.callbacks.History at 0x7fd6d905f898>"
            ]
          },
          "metadata": {
            "tags": []
          },
          "execution_count": 43
        }
      ]
    },
    {
      "cell_type": "code",
      "metadata": {
        "id": "OFEeKpBaLlCY",
        "outputId": "fc15c822-a283-4855-9702-c35609dc4136",
        "colab": {
          "base_uri": "https://localhost:8080/"
        }
      },
      "source": [
        "result = model.evaluate(x_test,y_test)\n",
        "for i in range(len(model.metrics_names)):\n",
        "  print(\"Metric \",model.metrics_names[i],\":\",str(round(result[i],2)))"
      ],
      "execution_count": 44,
      "outputs": [
        {
          "output_type": "stream",
          "text": [
            "6358/6358 [==============================] - 7s 1ms/step - loss: 814804.5625 - mean_absolute_error: 606.5347\n",
            "Metric  loss : 814804.56\n",
            "Metric  mean_absolute_error : 606.53\n"
          ],
          "name": "stdout"
        }
      ]
    },
    {
      "cell_type": "code",
      "metadata": {
        "id": "Hu0aaRvkLt6G"
      },
      "source": [
        "#increasing number of neurons\n",
        "model = Sequential([\n",
        "                    layers.Dense(350,input_dim = 44,activation=\"relu\"),\n",
        "                    layers.Dense(350,activation=\"relu\"),\n",
        "                    layers.Dense(1,activation = \"linear\")])"
      ],
      "execution_count": 45,
      "outputs": []
    },
    {
      "cell_type": "code",
      "metadata": {
        "id": "AjqzpaxGLuDa",
        "outputId": "1df86f45-b41c-4c38-9d68-fdf823625522",
        "colab": {
          "base_uri": "https://localhost:8080/"
        }
      },
      "source": [
        "model.compile(optimizer='adam',loss=\"mean_squared_error\",metrics=[\"mean_absolute_error\"])\n",
        "\n",
        "model.fit(x_train,y_train, \n",
        "          validation_data=(x_val,y_val),\n",
        "          epochs=20,\n",
        "          batch_size=64)"
      ],
      "execution_count": 46,
      "outputs": [
        {
          "output_type": "stream",
          "text": [
            "Epoch 1/20\n",
            "11444/11444 [==============================] - 38s 3ms/step - loss: 1679625.1250 - mean_absolute_error: 849.7300 - val_loss: 1187325.7500 - val_mean_absolute_error: 756.6290\n",
            "Epoch 2/20\n",
            "11444/11444 [==============================] - 39s 3ms/step - loss: 1132257.1250 - mean_absolute_error: 718.2251 - val_loss: 1113704.2500 - val_mean_absolute_error: 718.7039\n",
            "Epoch 3/20\n",
            "11444/11444 [==============================] - 40s 3ms/step - loss: 1077978.2500 - mean_absolute_error: 698.4597 - val_loss: 1095404.2500 - val_mean_absolute_error: 718.1939\n",
            "Epoch 4/20\n",
            "11444/11444 [==============================] - 38s 3ms/step - loss: 1044135.8125 - mean_absolute_error: 686.3499 - val_loss: 991955.6250 - val_mean_absolute_error: 674.8966\n",
            "Epoch 5/20\n",
            "11444/11444 [==============================] - 38s 3ms/step - loss: 1021189.3125 - mean_absolute_error: 678.6777 - val_loss: 980957.0000 - val_mean_absolute_error: 670.9928\n",
            "Epoch 6/20\n",
            "11444/11444 [==============================] - 38s 3ms/step - loss: 1005335.0625 - mean_absolute_error: 673.9142 - val_loss: 971531.5000 - val_mean_absolute_error: 663.9490\n",
            "Epoch 7/20\n",
            "11444/11444 [==============================] - 38s 3ms/step - loss: 984122.7500 - mean_absolute_error: 667.2161 - val_loss: 1063522.1250 - val_mean_absolute_error: 701.6114\n",
            "Epoch 8/20\n",
            "11444/11444 [==============================] - 39s 3ms/step - loss: 973342.8125 - mean_absolute_error: 663.4578 - val_loss: 922569.1875 - val_mean_absolute_error: 648.6978\n",
            "Epoch 9/20\n",
            "11444/11444 [==============================] - 38s 3ms/step - loss: 957617.0625 - mean_absolute_error: 659.1813 - val_loss: 960482.5625 - val_mean_absolute_error: 669.0096\n",
            "Epoch 10/20\n",
            "11444/11444 [==============================] - 38s 3ms/step - loss: 944453.4375 - mean_absolute_error: 654.9544 - val_loss: 897825.4375 - val_mean_absolute_error: 642.8459\n",
            "Epoch 11/20\n",
            "11444/11444 [==============================] - 38s 3ms/step - loss: 928272.6875 - mean_absolute_error: 649.9449 - val_loss: 906150.3125 - val_mean_absolute_error: 649.3929\n",
            "Epoch 12/20\n",
            "11444/11444 [==============================] - 38s 3ms/step - loss: 916202.3750 - mean_absolute_error: 646.1343 - val_loss: 895926.0625 - val_mean_absolute_error: 643.3906\n",
            "Epoch 13/20\n",
            "11444/11444 [==============================] - 38s 3ms/step - loss: 907914.0625 - mean_absolute_error: 643.6157 - val_loss: 899532.0000 - val_mean_absolute_error: 641.6295\n",
            "Epoch 14/20\n",
            "11444/11444 [==============================] - 38s 3ms/step - loss: 895183.6875 - mean_absolute_error: 639.0038 - val_loss: 869545.6875 - val_mean_absolute_error: 638.7789\n",
            "Epoch 15/20\n",
            "11444/11444 [==============================] - 38s 3ms/step - loss: 887774.4375 - mean_absolute_error: 635.9698 - val_loss: 855090.5000 - val_mean_absolute_error: 627.1416\n",
            "Epoch 16/20\n",
            "11444/11444 [==============================] - 38s 3ms/step - loss: 879589.0000 - mean_absolute_error: 633.2383 - val_loss: 878020.6875 - val_mean_absolute_error: 632.5464\n",
            "Epoch 17/20\n",
            "11444/11444 [==============================] - 37s 3ms/step - loss: 873645.5625 - mean_absolute_error: 630.6719 - val_loss: 833200.6250 - val_mean_absolute_error: 618.7192\n",
            "Epoch 18/20\n",
            "11444/11444 [==============================] - 37s 3ms/step - loss: 864662.0000 - mean_absolute_error: 627.5115 - val_loss: 858792.6250 - val_mean_absolute_error: 629.9119\n",
            "Epoch 19/20\n",
            "11444/11444 [==============================] - 38s 3ms/step - loss: 856681.6875 - mean_absolute_error: 625.0428 - val_loss: 824790.6875 - val_mean_absolute_error: 613.3783\n",
            "Epoch 20/20\n",
            "11444/11444 [==============================] - 38s 3ms/step - loss: 853275.8750 - mean_absolute_error: 623.4012 - val_loss: 825013.3750 - val_mean_absolute_error: 614.4763\n"
          ],
          "name": "stdout"
        },
        {
          "output_type": "execute_result",
          "data": {
            "text/plain": [
              "<tensorflow.python.keras.callbacks.History at 0x7fd6d8ebb1d0>"
            ]
          },
          "metadata": {
            "tags": []
          },
          "execution_count": 46
        }
      ]
    },
    {
      "cell_type": "code",
      "metadata": {
        "id": "FEpplWdZLuLg",
        "outputId": "5a7ec0ce-6809-4b69-bdb6-ff2e4e17222a",
        "colab": {
          "base_uri": "https://localhost:8080/"
        }
      },
      "source": [
        "result = model.evaluate(x_test,y_test)\n",
        "for i in range(len(model.metrics_names)):\n",
        "  print(\"Metric \",model.metrics_names[i],\":\",str(round(result[i],2)))"
      ],
      "execution_count": 47,
      "outputs": [
        {
          "output_type": "stream",
          "text": [
            "6358/6358 [==============================] - 7s 1ms/step - loss: 834451.7500 - mean_absolute_error: 617.2159\n",
            "Metric  loss : 834451.75\n",
            "Metric  mean_absolute_error : 617.22\n"
          ],
          "name": "stdout"
        }
      ]
    },
    {
      "cell_type": "code",
      "metadata": {
        "id": "cxHZAMj1LuTO",
        "outputId": "879a9582-7e51-4ae8-a8e1-ff016bfca721",
        "colab": {
          "base_uri": "https://localhost:8080/"
        }
      },
      "source": [
        "model = Sequential([\n",
        "                    layers.Dense(350,input_dim = 44,activation=\"relu\"),\n",
        "                    layers.Dense(350,activation=\"relu\"),\n",
        "                    layers.Dense(350,activation=\"relu\"),\n",
        "                    layers.Dense(350,activation=\"relu\"),\n",
        "                    layers.Dense(350,activation=\"relu\"),\n",
        "                    layers.Dense(1,activation = \"linear\")])\n",
        "\n",
        "model.compile(optimizer='adam',loss=\"mean_squared_error\",metrics=[\"mean_absolute_error\"])\n",
        "\n",
        "model.fit(x_train,y_train, \n",
        "        validation_data=(x_val,y_val),\n",
        "        epochs=20, \n",
        "        batch_size=64,\n",
        "        callbacks=[history])\n",
        "result = model.evaluate(x_test,y_test)\n",
        "for i in range(len(model.metrics_names)):\n",
        "  print(\"Metric \",model.metrics_names[i],\":\",str(round(result[i],2)))"
      ],
      "execution_count": 48,
      "outputs": [
        {
          "output_type": "stream",
          "text": [
            "Epoch 1/20\n",
            "11444/11444 [==============================] - 104s 9ms/step - loss: 1619758.0000 - mean_absolute_error: 838.2625 - val_loss: 1317506.6250 - val_mean_absolute_error: 760.7560\n",
            "Epoch 2/20\n",
            "11444/11444 [==============================] - 103s 9ms/step - loss: 1165358.7500 - mean_absolute_error: 724.5025 - val_loss: 1216015.3750 - val_mean_absolute_error: 767.0186\n",
            "Epoch 3/20\n",
            "11444/11444 [==============================] - 106s 9ms/step - loss: 1098207.8750 - mean_absolute_error: 702.5657 - val_loss: 1075032.7500 - val_mean_absolute_error: 706.9030\n",
            "Epoch 4/20\n",
            "11444/11444 [==============================] - 105s 9ms/step - loss: 1065457.8750 - mean_absolute_error: 691.3068 - val_loss: 1011898.1875 - val_mean_absolute_error: 676.1394\n",
            "Epoch 5/20\n",
            "11444/11444 [==============================] - 104s 9ms/step - loss: 1032400.5625 - mean_absolute_error: 680.8943 - val_loss: 972256.2500 - val_mean_absolute_error: 654.0941\n",
            "Epoch 6/20\n",
            "11444/11444 [==============================] - 105s 9ms/step - loss: 1010495.6875 - mean_absolute_error: 674.7284 - val_loss: 995603.2500 - val_mean_absolute_error: 665.7362\n",
            "Epoch 7/20\n",
            "11444/11444 [==============================] - 103s 9ms/step - loss: 992396.2500 - mean_absolute_error: 669.3033 - val_loss: 939875.3750 - val_mean_absolute_error: 649.7371\n",
            "Epoch 8/20\n",
            "11444/11444 [==============================] - 103s 9ms/step - loss: 968983.3750 - mean_absolute_error: 662.5936 - val_loss: 961778.3750 - val_mean_absolute_error: 656.2871\n",
            "Epoch 9/20\n",
            "11444/11444 [==============================] - 103s 9ms/step - loss: 953406.9375 - mean_absolute_error: 657.0052 - val_loss: 989317.3125 - val_mean_absolute_error: 684.6160\n",
            "Epoch 10/20\n",
            "11444/11444 [==============================] - 103s 9ms/step - loss: 938125.3750 - mean_absolute_error: 652.2779 - val_loss: 948289.2500 - val_mean_absolute_error: 660.4105\n",
            "Epoch 11/20\n",
            "11444/11444 [==============================] - 102s 9ms/step - loss: 922488.5000 - mean_absolute_error: 646.9612 - val_loss: 869563.1250 - val_mean_absolute_error: 628.4440\n",
            "Epoch 12/20\n",
            "11444/11444 [==============================] - 106s 9ms/step - loss: 905477.8125 - mean_absolute_error: 641.2263 - val_loss: 836846.4375 - val_mean_absolute_error: 617.8823\n",
            "Epoch 13/20\n",
            "11444/11444 [==============================] - 103s 9ms/step - loss: 891481.0625 - mean_absolute_error: 635.5353 - val_loss: 839924.7500 - val_mean_absolute_error: 616.3678\n",
            "Epoch 14/20\n",
            "11444/11444 [==============================] - 104s 9ms/step - loss: 878046.9375 - mean_absolute_error: 630.8410 - val_loss: 868577.8125 - val_mean_absolute_error: 620.7611\n",
            "Epoch 15/20\n",
            "11444/11444 [==============================] - 107s 9ms/step - loss: 869639.3125 - mean_absolute_error: 627.2053 - val_loss: 825697.8125 - val_mean_absolute_error: 609.1655\n",
            "Epoch 16/20\n",
            "11444/11444 [==============================] - 108s 9ms/step - loss: 856458.7500 - mean_absolute_error: 622.6805 - val_loss: 796079.8125 - val_mean_absolute_error: 602.7482\n",
            "Epoch 17/20\n",
            "11444/11444 [==============================] - 110s 10ms/step - loss: 845265.4375 - mean_absolute_error: 617.8145 - val_loss: 815414.3750 - val_mean_absolute_error: 610.5308\n",
            "Epoch 18/20\n",
            "11444/11444 [==============================] - 109s 10ms/step - loss: 832934.6250 - mean_absolute_error: 612.6079 - val_loss: 778365.8750 - val_mean_absolute_error: 590.0744\n",
            "Epoch 19/20\n",
            "11444/11444 [==============================] - 108s 9ms/step - loss: 821367.5625 - mean_absolute_error: 607.9393 - val_loss: 787607.5625 - val_mean_absolute_error: 596.6351\n",
            "Epoch 20/20\n",
            "11444/11444 [==============================] - 109s 10ms/step - loss: 814975.8750 - mean_absolute_error: 605.2227 - val_loss: 794066.1250 - val_mean_absolute_error: 592.4084\n",
            "6358/6358 [==============================] - 14s 2ms/step - loss: 808198.8125 - mean_absolute_error: 595.4575\n",
            "Metric  loss : 808198.81\n",
            "Metric  mean_absolute_error : 595.46\n"
          ],
          "name": "stdout"
        }
      ]
    },
    {
      "cell_type": "code",
      "metadata": {
        "id": "CJz2Hom-MvcZ",
        "outputId": "4cd7e67c-e89d-40cc-a62a-476ce78dce42",
        "colab": {
          "base_uri": "https://localhost:8080/",
          "height": 295
        }
      },
      "source": [
        "plt.plot(history.history['loss'])\n",
        "plt.plot(history.history['val_loss'])\n",
        "plt.title(\"Model's Training & Validation loss across epochs\")\n",
        "plt.ylabel('Loss')\n",
        "plt.xlabel('Epochs')\n",
        "plt.legend(['Train', 'Validation'], loc='upper right')\n",
        "plt.show()"
      ],
      "execution_count": 49,
      "outputs": [
        {
          "output_type": "display_data",
          "data": {
            "image/png": "[encoded data removed]",
            "text/plain": [
              "<Figure size 432x288 with 1 Axes>"
            ]
          },
          "metadata": {
            "tags": [],
            "needs_background": "light"
          }
        }
      ]
    },
    {
      "cell_type": "markdown",
      "metadata": {
        "id": "gHVtmm06GcZ4"
      },
      "source": [
        "#Model Predicitions"
      ]
    },
    {
      "cell_type": "code",
      "metadata": {
        "id": "WrDXh2hNNE3Q",
        "outputId": "02480b49-d890-48b4-980b-037aa4b778b0",
        "colab": {
          "base_uri": "https://localhost:8080/"
        }
      },
      "source": [
        "y_test[\"Prediction\"] = model.predict(x_test)\n",
        "y_test.columns = [\"Actual Sales\",\"Predicted Sales\"]\n",
        "print(y_test.head(10))\n",
        "\n",
        "from sklearn.metrics import mean_squared_error, mean_absolute_error\n",
        "print(\"MSE :\",mean_squared_error(y_test[\"Actual Sales\"].values,y_test[\"Predicted Sales\"].values))\n",
        "print(\"MAE :\",mean_absolute_error(y_test[\"Actual Sales\"].values,y_test[\"Predicted Sales\"].values))"
      ],
      "execution_count": 50,
      "outputs": [
        {
          "output_type": "stream",
          "text": [
            "        Actual Sales  Predicted Sales\n",
            "700429          8116      9048.292969\n",
            "418218          9960     10581.352539\n",
            "633975          5965      6416.131348\n",
            "220649          3381      4479.783691\n",
            "882168          7792      7353.647461\n",
            "682316          4886      4660.086426\n",
            "676514          1839      2312.590576\n",
            "830442          7424      7735.551758\n",
            "494522             0         0.553743\n",
            "73443           7833      6203.285156\n",
            "MSE : 808198.5576723425\n",
            "MAE : 595.4576292517164\n"
          ],
          "name": "stdout"
        }
      ]
    },
    {
      "cell_type": "code",
      "metadata": {
        "id": "0yr1l-rNbfsP"
      },
      "source": [
        " '''\n",
        "# some time later...\n",
        " \n",
        "# load the model from disk\n",
        "loaded_model = pickle.load(open(filename, 'rb'))\n",
        "result = loaded_model.score(X_test, Y_test)\n",
        "print(result)\n",
        "'''"
      ],
      "execution_count": null,
      "outputs": []
    },
    {
      "cell_type": "markdown",
      "metadata": {
        "id": "UZQ0ys7s_bjZ"
      },
      "source": [
        "In this we have explored a supervised regression problem for DNN\n",
        "from end to end. We started with the problem statement and defined it\n",
        "using industry standard frameworks to get an intuitive understanding of\n",
        "why we are solving this problem. We then explored the data to understand\n",
        "the available features and different data types. "
      ]
    }
  ]
}